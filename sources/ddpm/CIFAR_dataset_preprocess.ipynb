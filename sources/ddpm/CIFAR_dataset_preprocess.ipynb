{
 "cells": [
  {
   "cell_type": "code",
   "execution_count": 1,
   "metadata": {},
   "outputs": [],
   "source": [
    "import torchvision\n",
    "import torch\n",
    "import numpy as np\n",
    "import matplotlib.pyplot as plt\n",
    "import pickle\n",
    "from PIL import Image\n",
    "import os\n",
    "# data_path = '/public/share/sd23/d2l/AI_study/5DiffusionModel/ddpm/data/sprites_1788_16x16.npy'\n",
    "# label_path = '/public/share/sd23/d2l/AI_study/5DiffusionModel/ddpm/data/sprite_labels_nc_1788_16x16.npy'\n",
    "\n"
   ]
  },
  {
   "cell_type": "code",
   "execution_count": null,
   "metadata": {},
   "outputs": [],
   "source": [
    "from torchvision import datasets, transforms\n",
    "\n",
    "data_dir = '/public/share/sd23/d2l/AI_study/5DiffusionModel/ddpm/data/CIFAR10'\n",
    "\n",
    "train_set = datasets.CIFAR10(\n",
    "            root=data_dir,\n",
    "            train=True,\n",
    "            download=True,\n",
    "        )\n",
    "\n",
    "test_set = datasets.CIFAR10(\n",
    "            root=data_dir,\n",
    "            train=False,\n",
    "            download=True,\n",
    "        )"
   ]
  },
  {
   "cell_type": "code",
   "execution_count": 4,
   "metadata": {},
   "outputs": [
    {
     "name": "stdout",
     "output_type": "stream",
     "text": [
      "dict_keys([b'batch_label', b'labels', b'data', b'filenames'])\n",
      "dict_keys([b'batch_label', b'labels', b'data', b'filenames'])\n",
      "dict_keys([b'batch_label', b'labels', b'data', b'filenames'])\n",
      "dict_keys([b'batch_label', b'labels', b'data', b'filenames'])\n",
      "dict_keys([b'batch_label', b'labels', b'data', b'filenames'])\n"
     ]
    }
   ],
   "source": [
    "data_dir = '/public/share/sd23/d2l/AI_study/5DiffusionModel/ddpm/data/CIFAR10/cifar-10-batches-py'\n",
    "cifar10_data = None\n",
    "cifar10_label = None\n",
    "for data_path in os.listdir(data_dir):\n",
    "    if 'data' in data_path:\n",
    "        data_path = os.path.join(data_dir, data_path)\n",
    "        with open(data_path, 'rb') as f:\n",
    "            ci_data = pickle.load(f, encoding='bytes')\n",
    "            print(ci_data.keys())\n",
    "        label = np.array(ci_data[b'labels'])\n",
    "        data = ci_data[b'data'].reshape(10000, 3, 32, 32)\n",
    "        data = np.moveaxis(data, 1, -1)\n",
    "        if cifar10_data is None:\n",
    "            cifar10_data = data\n",
    "            cifar10_label = label\n",
    "        else:\n",
    "            cifar10_data = np.concatenate((cifar10_data, data), axis=0)\n",
    "            cifar10_label = np.concatenate((cifar10_label, label), axis=0)\n",
    "# Display a single image\n",
    "# def display_single_image(image_array, index=0):\n",
    "#     plt.imshow(image_array[index], cmap='gray')\n",
    "#     plt.title(f\"Image {index}\")\n",
    "#     plt.axis('off')\n",
    "#     plt.show()\n",
    "# # Display multiple images\n",
    "# def display_multiple_images(image_array, rows=3, cols=3):\n",
    "#     fig, axes = plt.subplots(rows, cols, figsize=(8, 3.5), dpi = 600)\n",
    "#     for i in range(rows * cols):\n",
    "#         ax = axes[i // cols, i % cols]\n",
    "#         ax.imshow(image_array[i], cmap='gray')\n",
    "#         ax.set_title(f\"iamge {i+1}\", fontsize=8)\n",
    "#         ax.axis('off')\n",
    "#     plt.tight_layout()\n",
    "#     plt.show()\n",
    "#     plt.savefig('sprite.png', box_inches='tight')\n",
    "# # # Display the first image\n",
    "# # display_single_image(data, index=0)\n",
    "# # Display a grid of images\n",
    "# display_multiple_images(data, rows=4, cols=10)"
   ]
  },
  {
   "cell_type": "code",
   "execution_count": 10,
   "metadata": {},
   "outputs": [
    {
     "name": "stdout",
     "output_type": "stream",
     "text": [
      "(50000, 32, 32, 3)\n",
      "(50000,)\n"
     ]
    }
   ],
   "source": [
    "print(cifar10_data.shape)\n",
    "print(cifar10_label.shape)\n",
    "cifar10_label = np.eye(10)[cifar10_label]\n",
    "# np.save('/public/share/sd23/d2l/AI_study/5DiffusionModel/ddpm/data/CIFAR10/cifar10_data.npy', cifar10_data)\n",
    "np.save('/public/share/sd23/d2l/AI_study/5DiffusionModel/ddpm/data/CIFAR10/cifar10_label.npy', cifar10_label)\n"
   ]
  },
  {
   "cell_type": "code",
   "execution_count": 11,
   "metadata": {},
   "outputs": [
    {
     "name": "stdout",
     "output_type": "stream",
     "text": [
      "(50000, 10)\n"
     ]
    }
   ],
   "source": [
    "print(cifar10_label.shape)"
   ]
  }
 ],
 "metadata": {
  "kernelspec": {
   "display_name": "rbp",
   "language": "python",
   "name": "python3"
  },
  "language_info": {
   "codemirror_mode": {
    "name": "ipython",
    "version": 3
   },
   "file_extension": ".py",
   "mimetype": "text/x-python",
   "name": "python",
   "nbconvert_exporter": "python",
   "pygments_lexer": "ipython3",
   "version": "3.10.0"
  }
 },
 "nbformat": 4,
 "nbformat_minor": 2
}
